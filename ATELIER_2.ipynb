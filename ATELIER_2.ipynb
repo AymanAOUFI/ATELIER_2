{
  "nbformat": 4,
  "nbformat_minor": 0,
  "metadata": {
    "colab": {
      "provenance": []
    },
    "kernelspec": {
      "name": "python3",
      "display_name": "Python 3"
    },
    "language_info": {
      "name": "python"
    }
  },
  "cells": [
    {
      "cell_type": "code",
      "execution_count": null,
      "metadata": {
        "id": "k8m6oWERJDQn"
      },
      "outputs": [],
      "source": [
        "AOUFI AYMAN\n",
        "\n",
        "Module : Langage de programmation\n",
        "\n",
        "Enacdré par : Dr. EL AACHAK Lotfi\n",
        "\n",
        "Atelier 2"
      ]
    },
    {
      "cell_type": "markdown",
      "source": [],
      "metadata": {
        "id": "8_lCt84cJF8a"
      }
    },
    {
      "cell_type": "markdown",
      "source": [
        "1. Créer une liste en choisissant des éléments d'index impair dans la première liste et des\n",
        "éléments d'index pair dans la seconde.\n"
      ],
      "metadata": {
        "id": "jjCSNrGPJMFp"
      }
    },
    {
      "cell_type": "code",
      "source": [
        "l1 = [3, 6, 9, 12, 15, 18, 21]\n",
        "l2 = [4, 8, 12, 16, 20, 24, 28]\n",
        "l3 = []\n",
        "\n",
        "for i in range(len(l1)):\n",
        "    if i % 2 == 0:\n",
        "        l3.append(l2[i])\n",
        "    else:\n",
        "        l3.append(l1[i])\n",
        "print(l3)"
      ],
      "metadata": {
        "colab": {
          "base_uri": "https://localhost:8080/"
        },
        "id": "MKTod0cWJR46",
        "outputId": "6b9be3e0-b801-4ede-9694-3961cfa8698f"
      },
      "execution_count": 1,
      "outputs": [
        {
          "output_type": "stream",
          "name": "stdout",
          "text": [
            "[4, 6, 12, 12, 20, 18, 28]\n"
          ]
        }
      ]
    },
    {
      "cell_type": "markdown",
      "source": [
        "2. Deviser la liste en 3 morceaux égaux et inverser chaque morceau"
      ],
      "metadata": {
        "id": "OK_NkE0GJj6r"
      }
    },
    {
      "cell_type": "code",
      "source": [
        "l = [11, 45, 8, 23, 14, 12, 78, 45, 89]\n",
        "premier_morceau = [11, 45, 8]\n",
        "deuxieme_morceau = [23, 14, 12]\n",
        "troisieme_morceau = [78, 45, 89]\n",
        "\n",
        "premier_morceau_inverse = premier_morceau[::-1]  # [8, 45, 11]\n",
        "deuxieme_morceau_inverse = deuxieme_morceau[::-1]  # [12, 14, 23]\n",
        "troisieme_morceau_inverse = troisieme_morceau[::-1]  # [89, 45, 78]\n",
        "\n",
        "print(premier_morceau_inverse)\n",
        "print(deuxieme_morceau_inverse)\n",
        "print(troisieme_morceau_inverse)"
      ],
      "metadata": {
        "colab": {
          "base_uri": "https://localhost:8080/"
        },
        "id": "DEgDpBGqKLOq",
        "outputId": "84d03eab-6cf3-489b-89c8-7a69d4b38cc6"
      },
      "execution_count": 4,
      "outputs": [
        {
          "output_type": "stream",
          "name": "stdout",
          "text": [
            "[8, 45, 11]\n",
            "[12, 14, 23]\n",
            "[89, 45, 78]\n"
          ]
        }
      ]
    },
    {
      "cell_type": "markdown",
      "source": [
        "3. Écrire un programme pour itérer une liste donnée et compter l'occurrence de chaque élément et\n",
        "créer un dictionnaire pour montrer le nombre de chaque élément"
      ],
      "metadata": {
        "id": "wMK_Wis-K6Jh"
      }
    },
    {
      "cell_type": "code",
      "source": [
        "liste = [11, 45, 8, 11, 23, 45, 23, 45, 89]\n",
        "\n",
        "#  stocker les résultats\n",
        "resultats = {}\n",
        "\n",
        "# compter l'occurrence de chaque élément\n",
        "for element in liste:\n",
        "  # si l'élément existe déjà dans le dictionnaire, on incrémente sa valeur\n",
        "  if element in resultats:\n",
        "    resultats[element] += 1\n",
        "  # sinon, on l'ajoute au dictionnaire avec une valeur de 1\n",
        "  else:\n",
        "    resultats[element] = 1\n",
        "print(resultats)"
      ],
      "metadata": {
        "id": "gHET5FLFbiAl"
      },
      "execution_count": null,
      "outputs": []
    },
    {
      "cell_type": "markdown",
      "source": [
        "4. Trouver l'intersection (commune) de deux Sets et supprimez ces éléments du premier Set"
      ],
      "metadata": {
        "id": "WyyDNy4jb4XZ"
      }
    },
    {
      "cell_type": "code",
      "source": [
        "L1 = {23, 42, 65, 57, 78, 83, 29}\n",
        "L2 = {57, 83, 29, 67, 73, 43, 48}\n",
        "\n",
        "#l'intersection des deux ensembles\n",
        "intersection = L1 & L2  # {57, 83, 29}\n",
        "\n",
        "# on supprime les éléments de l'intersection du premier ensemble\n",
        "L1 -= intersection  # {23, 42, 65, 78}\n",
        "\n",
        "print(intersection)\n",
        "print(L1)"
      ],
      "metadata": {
        "colab": {
          "base_uri": "https://localhost:8080/"
        },
        "id": "dvH9YxW_cTB4",
        "outputId": "cb60e685-88c3-4d04-caf1-98d6b87da8f5"
      },
      "execution_count": 6,
      "outputs": [
        {
          "output_type": "stream",
          "name": "stdout",
          "text": [
            "{57, 83, 29}\n",
            "{65, 42, 78, 23}\n"
          ]
        }
      ]
    },
    {
      "cell_type": "markdown",
      "source": [
        "5. Itérer une liste donnée et vérifier si un élément donné existe en tant que valeur de clé dans\n",
        "un dictionnaire. Sinon, supprimez-le de la liste"
      ],
      "metadata": {
        "id": "QcQ5hhwXdF49"
      }
    },
    {
      "cell_type": "code",
      "source": [
        "L = [47, 64, 69, 37, 76, 83, 95, 97]\n",
        "\n",
        "# on définit le dictionnaire\n",
        "dic = {'Yassine':47, 'Imane':69, 'Mohammed':76, 'Abir':97}\n",
        "\n",
        "# on itère sur la liste\n",
        "for element in L:\n",
        "  # on vérifie si l'élément existe en tant que valeur de clé dans le dictionnaire\n",
        "  if element not in dic.values():\n",
        "    # si l'élément n'existe pas, on le supprime de la liste\n",
        "    L.remove(element)\n",
        "\n",
        "print(L)"
      ],
      "metadata": {
        "colab": {
          "base_uri": "https://localhost:8080/"
        },
        "id": "tKtQkAM6dwkY",
        "outputId": "c9014af1-0bfe-4e6a-dbf4-b0cec47c3cef"
      },
      "execution_count": 8,
      "outputs": [
        {
          "output_type": "stream",
          "name": "stdout",
          "text": [
            "[47, 69, 76, 95, 97]\n"
          ]
        }
      ]
    }
  ]
}